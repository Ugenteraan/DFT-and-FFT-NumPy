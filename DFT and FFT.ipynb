{
 "cells": [
  {
   "cell_type": "markdown",
   "metadata": {},
   "source": [
    "# Discrete Fourier Transform and Fast Fourier Transform"
   ]
  },
  {
   "cell_type": "code",
   "execution_count": 1,
   "metadata": {},
   "outputs": [],
   "source": [
    "import numpy as np\n",
    "import time"
   ]
  },
  {
   "cell_type": "markdown",
   "metadata": {},
   "source": [
    "### Discrete Fourier Transform"
   ]
  },
  {
   "cell_type": "markdown",
   "metadata": {},
   "source": [
    "Definition of IDFT and DFT :"
   ]
  },
  {
   "cell_type": "markdown",
   "metadata": {},
   "source": [
    "$x(n) = \\frac{1}{N}\\sum_{k=0}^{N-1}C(k) e^{i2\\pi nk/N}, \\qquad  n = 0,1,2, \\dots,N-1$"
   ]
  },
  {
   "cell_type": "markdown",
   "metadata": {},
   "source": [
    "$ C(k) \\triangleq \\sum_{n=0}^{N-1}x(n) e^{-i2\\pi nk/N}, \\qquad  k = 0,1,2, \\dots,N-1$"
   ]
  },
  {
   "cell_type": "code",
   "execution_count": 10,
   "metadata": {},
   "outputs": [],
   "source": [
    "def DFT(x):\n",
    "    '''\n",
    "    Discrete Fourier Transform of a 1-D array, x.\n",
    "    '''\n",
    "    x = np.asarray(x, dtype=np.float32)\n",
    "    N = x.shape[0]\n",
    "    n = np.arange(N)\n",
    "    #the value of k is supplied by IDFT. For every value of k, entire n will be used. Hence the reshape.\n",
    "    k = n.reshape((N,1)) \n",
    "    M = np.exp(-2j * np.pi * k * n/N)\n",
    "    \n",
    "    return M@x"
   ]
  },
  {
   "cell_type": "code",
   "execution_count": 11,
   "metadata": {},
   "outputs": [
    {
     "data": {
      "text/plain": [
       "0.10526299476623535"
      ]
     },
     "execution_count": 11,
     "metadata": {},
     "output_type": "execute_result"
    }
   ],
   "source": [
    "inp = np.random.random(1024)\n",
    "start_time = time.time()\n",
    "dft = DFT(inp) #our method\n",
    "end_time = time.time()\n",
    "\n",
    "time_taken = end_time - start_time\n",
    "time_taken"
   ]
  },
  {
   "cell_type": "code",
   "execution_count": 12,
   "metadata": {},
   "outputs": [
    {
     "data": {
      "text/plain": [
       "0.0006098747253417969"
      ]
     },
     "execution_count": 12,
     "metadata": {},
     "output_type": "execute_result"
    }
   ],
   "source": [
    "start_time = time.time()\n",
    "np_ft = np.fft.fft(inp) #numpy's built-in fast fourier transform\n",
    "end_time = time.time()\n",
    "\n",
    "time_taken= end_time - start_time\n",
    "time_taken"
   ]
  },
  {
   "cell_type": "code",
   "execution_count": 13,
   "metadata": {},
   "outputs": [
    {
     "data": {
      "text/plain": [
       "True"
      ]
     },
     "execution_count": 13,
     "metadata": {},
     "output_type": "execute_result"
    }
   ],
   "source": [
    "np.allclose(dft, np_ft) #check if our result and the built-in library's result are the same."
   ]
  },
  {
   "cell_type": "markdown",
   "metadata": {},
   "source": [
    "### Fast Fourier Transform"
   ]
  },
  {
   "cell_type": "markdown",
   "metadata": {},
   "source": [
    "$\\sum_{m=0}^{(N/2)-1}x(2m)\\cdot e^{-i2\\pi mk/(N/2)} + e^{-i2\\pi k/N}\\cdot \\sum_{m=0}^{(N/2)-1}x(2m+1)\\cdot e^{-i2\\pi mk/(N/2)}$"
   ]
  },
  {
   "cell_type": "code",
   "execution_count": 6,
   "metadata": {},
   "outputs": [],
   "source": [
    "def FFT(x):\n",
    "    '''\n",
    "    Fast Fourier Transform of a 1-D array, x. This implementation however is done only to deal with arrays of\n",
    "    size 2^n for the purpose of demonstration.\n",
    "    '''\n",
    "    x = np.asarray(x, dtype=np.float32)\n",
    "    N = x.shape[0]\n",
    "    \n",
    "    if N%2>0:\n",
    "        raise ValueError(\"size of x must be a power of 2!\")\n",
    "    elif N <= 32: #base case\n",
    "        return DFT(x)\n",
    "    else:\n",
    "        X_even = FFT(x[::2]) #choose every 2nd data from 0 (even numbered)\n",
    "        X_odd = FFT(x[1::2]) #choose every 2nd data from 1 (odd numbered)\n",
    "        factor = np.exp(-2j * np.pi * np.arange(N) / N)\n",
    "        \n",
    "        return np.concatenate([X_even + factor[:(N // 2)] * X_odd,\n",
    "                               X_even + factor[(N // 2):] * X_odd])"
   ]
  },
  {
   "cell_type": "code",
   "execution_count": 7,
   "metadata": {},
   "outputs": [],
   "source": [
    "inp = np.random.random(1024)"
   ]
  },
  {
   "cell_type": "code",
   "execution_count": 8,
   "metadata": {},
   "outputs": [
    {
     "data": {
      "text/plain": [
       "0.011381864547729492"
      ]
     },
     "execution_count": 8,
     "metadata": {},
     "output_type": "execute_result"
    }
   ],
   "source": [
    "start_time = time.time()\n",
    "fft = FFT(inp)\n",
    "end_time = time.time()\n",
    "time_taken = end_time - start_time\n",
    "time_taken"
   ]
  },
  {
   "cell_type": "code",
   "execution_count": 9,
   "metadata": {},
   "outputs": [
    {
     "data": {
      "text/plain": [
       "True"
      ]
     },
     "execution_count": 9,
     "metadata": {},
     "output_type": "execute_result"
    }
   ],
   "source": [
    "np_ft = np.fft.fft(inp)\n",
    "np.allclose(fft, np_ft) #check if our result and the built-in library's result are the same."
   ]
  },
  {
   "cell_type": "markdown",
   "metadata": {},
   "source": [
    "### Conclusion"
   ]
  },
  {
   "cell_type": "markdown",
   "metadata": {},
   "source": [
    "Our implementation of FFT and DFT although not even close to reaching the performance of the built-in FFT in NumPy, we have verified the correctness of our algorithm."
   ]
  },
  {
   "cell_type": "markdown",
   "metadata": {},
   "source": [
    "### References"
   ]
  },
  {
   "cell_type": "markdown",
   "metadata": {},
   "source": [
    "https://jakevdp.github.io/blog/2013/08/28/understanding-the-fft/"
   ]
  }
 ],
 "metadata": {
  "kernelspec": {
   "display_name": "Python 3.6.10 64-bit ('spacex': conda)",
   "language": "python",
   "name": "python361064bitspacexconda041ff80548bc4353b9d8c734b206617d"
  },
  "language_info": {
   "codemirror_mode": {
    "name": "ipython",
    "version": 3
   },
   "file_extension": ".py",
   "mimetype": "text/x-python",
   "name": "python",
   "nbconvert_exporter": "python",
   "pygments_lexer": "ipython3",
   "version": "3.6.10"
  }
 },
 "nbformat": 4,
 "nbformat_minor": 4
}
